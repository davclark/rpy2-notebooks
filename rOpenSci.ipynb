{
 "metadata": {
  "name": "",
  "signature": "sha256:016fcc80c4fe85d2b8c54077610626b12b4bf5720eaa0ef1a3a056acdbe520c4"
 },
 "nbformat": 3,
 "nbformat_minor": 0,
 "worksheets": [
  {
   "cells": [
    {
     "cell_type": "code",
     "collapsed": false,
     "input": [
      "import sys\n",
      "import rpy2\n",
      "print('python:', sys.version)\n",
      "print('rpy2:', rpy2.__version__)"
     ],
     "language": "python",
     "metadata": {},
     "outputs": [
      {
       "output_type": "stream",
       "stream": "stdout",
       "text": [
        "python: 3.4.2 |Continuum Analytics, Inc.| (default, Oct 21 2014, 17:42:20) \n",
        "[GCC 4.2.1 (Apple Inc. build 5577)]\n",
        "rpy2: 2.5.3\n"
       ]
      }
     ],
     "prompt_number": 4
    },
    {
     "cell_type": "code",
     "collapsed": false,
     "input": [
      "import rpy2.robjects as ro\n",
      "from rpy2.robjects import packages\n",
      "from rpy2.robjects.conversion import ri2py\n",
      "from rpy2.robjects import pandas2ri"
     ],
     "language": "python",
     "metadata": {},
     "outputs": [],
     "prompt_number": 2
    },
    {
     "cell_type": "markdown",
     "metadata": {},
     "source": [
      "## Interacting with R\n",
      "\n",
      "We demonstrate interacting with R using package installation (likely a necessary piece for many serious R users!)"
     ]
    },
    {
     "cell_type": "code",
     "collapsed": false,
     "input": [
      "packages.isinstalled('rdryad')"
     ],
     "language": "python",
     "metadata": {},
     "outputs": [
      {
       "metadata": {},
       "output_type": "pyout",
       "prompt_number": 3,
       "text": [
        "True"
       ]
      }
     ],
     "prompt_number": 3
    },
    {
     "cell_type": "code",
     "collapsed": false,
     "input": [
      "utils = packages.importr('utils')\n",
      "mirrors = ri2py(utils.getCRANmirrors())\n",
      "mirrors"
     ],
     "language": "python",
     "metadata": {},
     "outputs": [
      {
       "metadata": {},
       "output_type": "pyout",
       "prompt_number": 12,
       "text": [
        "<DataFrame - Python:0x10b7ad7c8 / R:0x103a6e150>\n",
        "[StrVe..., StrVe..., StrVe..., ..., StrVe..., IntVe..., StrVe...]\n",
        "  Name: <class 'rpy2.robjects.vectors.StrVector'>\n",
        "  <StrVector - Python:0x10bb40488 / R:0x10b8bf460>\n",
        "['0-Cl..., 'Arge..., 'Arge..., ..., 'USA ..., 'Vene..., 'Viet...]\n",
        "  Country: <class 'rpy2.robjects.vectors.StrVector'>\n",
        "  <StrVector - Python:0x10bb1b308 / R:0x10b8bb410>\n",
        "['0-Cl..., 'Arge..., 'Arge..., ..., 'USA', 'Vene..., 'Viet...]\n",
        "  City: <class 'rpy2.robjects.vectors.StrVector'>\n",
        "  <StrVector - Python:0x10d904888 / R:0x10b8bb780>\n",
        "['0-Cl..., 'La P..., 'Mend..., ..., 'Bell..., 'Vale..., 'Can ...]\n",
        "  ...\n",
        "  Name: <class 'rpy2.robjects.vectors.StrVector'>\n",
        "  <StrVector - Python:0x10d904808 / R:0x10b8ba270>\n",
        "['wins..., 'esua..., 'pcas..., ..., 'CS.S..., 'dir-..., 'cont...]\n",
        "  Country: <class 'rpy2.robjects.vectors.IntVector'>\n",
        "  <IntVector - Python:0x10d904c08 / R:0x10b8b0a50>\n",
        "[       1,        1,        1, ...,        1,        1,        1]\n",
        "  City: <class 'rpy2.robjects.vectors.StrVector'>\n",
        "  <StrVector - Python:0x10d802f88 / R:0x10b8ba5e0>\n",
        "['us', 'ar', 'ar', ..., 'us', 've', 'vn']"
       ]
      }
     ],
     "prompt_number": 12
    },
    {
     "cell_type": "code",
     "collapsed": false,
     "input": [
      "print(mirrors[:5,:])"
     ],
     "language": "python",
     "metadata": {},
     "outputs": [
      {
       "ename": "TypeError",
       "evalue": "SexpVector indices must be integers, not tuple",
       "output_type": "pyerr",
       "traceback": [
        "\u001b[0;31m---------------------------------------------------------------------------\u001b[0m\n\u001b[0;31mTypeError\u001b[0m                                 Traceback (most recent call last)",
        "\u001b[0;32m<ipython-input-18-6a823c9bc977>\u001b[0m in \u001b[0;36m<module>\u001b[0;34m()\u001b[0m\n\u001b[0;32m----> 1\u001b[0;31m \u001b[0mprint\u001b[0m\u001b[0;34m(\u001b[0m\u001b[0mmirrors\u001b[0m\u001b[0;34m[\u001b[0m\u001b[0;34m:\u001b[0m\u001b[0;36m5\u001b[0m\u001b[0;34m,\u001b[0m\u001b[0;34m:\u001b[0m\u001b[0;34m]\u001b[0m\u001b[0;34m)\u001b[0m\u001b[0;34m\u001b[0m\u001b[0m\n\u001b[0m",
        "\u001b[0;32m/opt/anaconda/envs/rpy2/lib/python3.4/site-packages/rpy2-2.5.3-py3.4-macosx-10.5-x86_64.egg/rpy2/robjects/vectors.py\u001b[0m in \u001b[0;36m__getitem__\u001b[0;34m(self, i)\u001b[0m\n\u001b[1;32m    960\u001b[0m         \u001b[0;31m# R's data.frames have no representation at the C-API level\u001b[0m\u001b[0;34m\u001b[0m\u001b[0;34m\u001b[0m\u001b[0m\n\u001b[1;32m    961\u001b[0m         \u001b[0;31m# (they are lists)\u001b[0m\u001b[0;34m\u001b[0m\u001b[0;34m\u001b[0m\u001b[0m\n\u001b[0;32m--> 962\u001b[0;31m         \u001b[0mtmp\u001b[0m \u001b[0;34m=\u001b[0m \u001b[0mrinterface\u001b[0m\u001b[0;34m.\u001b[0m\u001b[0mListSexpVector\u001b[0m\u001b[0;34m.\u001b[0m\u001b[0m__getitem__\u001b[0m\u001b[0;34m(\u001b[0m\u001b[0mself\u001b[0m\u001b[0;34m,\u001b[0m \u001b[0mi\u001b[0m\u001b[0;34m)\u001b[0m\u001b[0;34m\u001b[0m\u001b[0m\n\u001b[0m\u001b[1;32m    963\u001b[0m \u001b[0;34m\u001b[0m\u001b[0m\n\u001b[1;32m    964\u001b[0m         \u001b[0;32mif\u001b[0m \u001b[0mtmp\u001b[0m\u001b[0;34m.\u001b[0m\u001b[0mtypeof\u001b[0m \u001b[0;34m==\u001b[0m \u001b[0mrinterface\u001b[0m\u001b[0;34m.\u001b[0m\u001b[0mVECSXP\u001b[0m\u001b[0;34m:\u001b[0m\u001b[0;34m\u001b[0m\u001b[0m\n",
        "\u001b[0;31mTypeError\u001b[0m: SexpVector indices must be integers, not tuple"
       ]
      }
     ],
     "prompt_number": 18
    },
    {
     "cell_type": "code",
     "collapsed": false,
     "input": [
      "mirrors.colnames"
     ],
     "language": "python",
     "metadata": {},
     "outputs": [
      {
       "metadata": {},
       "output_type": "pyout",
       "prompt_number": 15,
       "text": [
        "<StrVector - Python:0x10bb184c8 / R:0x10a46f950>\n",
        "['Name', 'Coun..., 'City', ..., 'Main..., 'OK', 'Coun...]"
       ]
      }
     ],
     "prompt_number": 15
    },
    {
     "cell_type": "code",
     "collapsed": false,
     "input": [
      "print(co)"
     ],
     "language": "python",
     "metadata": {},
     "outputs": []
    },
    {
     "cell_type": "code",
     "collapsed": false,
     "input": [
      "utils.chooseCRANmirror(ind=1) # Note R is 1-offset, python is 0-offset :|\n",
      "utils.install_packages(\"rdryad\")"
     ],
     "language": "python",
     "metadata": {},
     "outputs": [
      {
       "output_type": "stream",
       "stream": "stdout",
       "text": [
        "trying URL 'http://cran.rstudio.com/bin/macosx/mavericks/contrib/3.1/rdryad_0.1.1.tgz'\n",
        "\n",
        "Content type 'application/x-gzip'"
       ]
      },
      {
       "output_type": "stream",
       "stream": "stdout",
       "text": [
        "\n",
        " length 37365 bytes (36 Kb)\n",
        "\n",
        "opened URL\n",
        "\n",
        "=\n",
        "=\n",
        "=\n",
        "=\n",
        "=\n",
        "=\n",
        "=\n",
        "=\n",
        "=\n",
        "=\n",
        "=\n",
        "=\n",
        "=\n",
        "=\n",
        "=\n",
        "=\n",
        "="
       ]
      },
      {
       "output_type": "stream",
       "stream": "stdout",
       "text": [
        "\n",
        "=\n",
        "=\n",
        "=\n",
        "=\n",
        "=\n",
        "=\n",
        "=\n",
        "=\n",
        "=\n",
        "=\n",
        "=\n",
        "=\n",
        "=\n",
        "=\n",
        "=\n",
        "=\n",
        "=\n",
        "=\n",
        "=\n",
        "=\n",
        "=\n",
        "=\n",
        "=\n",
        "=\n",
        "=\n",
        "=\n",
        "="
       ]
      },
      {
       "output_type": "stream",
       "stream": "stdout",
       "text": [
        "\n",
        "=\n",
        "=\n",
        "=\n",
        "=\n",
        "=\n",
        "=\n",
        "\n",
        "\n",
        "downloaded 36 Kb\n",
        "\n",
        "\n"
       ]
      },
      {
       "output_type": "stream",
       "stream": "stdout",
       "text": [
        "\n",
        "\n",
        "\n",
        "The downloaded binary packages are in\n",
        "\t/var/folders/bp/vm5h3k411wg_f8gdsrrklfnm0000gn/T//RtmpTBB2il/downloaded_packages\n",
        "\n",
        "\n",
        "\n"
       ]
      },
      {
       "metadata": {},
       "output_type": "pyout",
       "prompt_number": 24,
       "text": [
        "rpy2.rinterface.NULL"
       ]
      }
     ],
     "prompt_number": 24
    },
    {
     "cell_type": "code",
     "collapsed": false,
     "input": [
      "# You could also do it this way...\n",
      "ro.r('install.packages(\"rdryad\")')"
     ],
     "language": "python",
     "metadata": {},
     "outputs": []
    },
    {
     "cell_type": "code",
     "collapsed": false,
     "input": [
      "%load_ext rpy2.ipython"
     ],
     "language": "python",
     "metadata": {},
     "outputs": [],
     "prompt_number": 5
    },
    {
     "cell_type": "code",
     "collapsed": false,
     "input": [],
     "language": "python",
     "metadata": {},
     "outputs": []
    },
    {
     "cell_type": "code",
     "collapsed": false,
     "input": [
      "# We can manage namespaces in python in a way I like better than R!\n",
      "rdryad = packages.importr('rdryad')"
     ],
     "language": "python",
     "metadata": {},
     "outputs": [],
     "prompt_number": 7
    },
    {
     "cell_type": "code",
     "collapsed": false,
     "input": [
      "rdryad.download_url?"
     ],
     "language": "python",
     "metadata": {},
     "outputs": [],
     "prompt_number": 25
    },
    {
     "cell_type": "code",
     "collapsed": false,
     "input": [
      "raw_results = rdryad.download_url('10255/dryad.19')\n",
      "raw_results"
     ],
     "language": "python",
     "metadata": {},
     "outputs": [
      {
       "metadata": {},
       "output_type": "pyout",
       "prompt_number": 8,
       "text": [
        "<StrVector - Python:0x10b79d648 / R:0x10d0ad2c8>\n",
        "['http://datadryad.org//bitstream/handle/10255/dry...]"
       ]
      }
     ],
     "prompt_number": 8
    },
    {
     "cell_type": "code",
     "collapsed": false,
     "input": [
      "ri2py(raw_results)"
     ],
     "language": "python",
     "metadata": {},
     "outputs": [
      {
       "metadata": {},
       "output_type": "pyout",
       "prompt_number": 9,
       "text": [
        "<StrVector - Python:0x10b7e7648 / R:0x10d0ad2c8>\n",
        "['http://datadryad.org//bitstream/handle/10255/dry...]"
       ]
      }
     ],
     "prompt_number": 9
    },
    {
     "cell_type": "code",
     "collapsed": false,
     "input": [
      "# This will automatically convert a variety of numpy and pandas datatypes \n",
      "# if you use them in calls to R\n",
      "# It won't do the conversion automatically on the way back out\n",
      "pandas2ri.activate()"
     ],
     "language": "python",
     "metadata": {},
     "outputs": [],
     "prompt_number": 15
    },
    {
     "cell_type": "markdown",
     "metadata": {},
     "source": [
      "## Some more interesting data\n",
      "\n",
      "We'll download some rfisheries data"
     ]
    },
    {
     "cell_type": "code",
     "collapsed": false,
     "input": [
      "packages.isinstalled('rfisheries')"
     ],
     "language": "python",
     "metadata": {},
     "outputs": [
      {
       "metadata": {},
       "output_type": "pyout",
       "prompt_number": 16,
       "text": [
        "True"
       ]
      }
     ],
     "prompt_number": 16
    },
    {
     "cell_type": "code",
     "collapsed": false,
     "input": [
      "ro.r('install.packages(\"rfisheries\")')"
     ],
     "language": "python",
     "metadata": {},
     "outputs": [
      {
       "output_type": "stream",
       "stream": "stdout",
       "text": [
        "also installing the dependencies \u2018jsonlite\u2019, \u2018httr\u2019, \u2018data.table\u2019, \u2018assertthat\u2019, \u2018rjson\u2019\n",
        "\n"
       ]
      },
      {
       "output_type": "stream",
       "stream": "stdout",
       "text": [
        "trying URL 'http://cran.cnr.Berkeley.edu/bin/macosx/mavericks/contrib/3.1/jsonlite_0.9.11.tgz'\n",
        "Content type 'application/x-gzip' length 671353 bytes (655 Kb)\n",
        "opened URL\n",
        "====================="
       ]
      },
      {
       "output_type": "stream",
       "stream": "stdout",
       "text": [
        "=============================\n",
        "downloaded 655 Kb\n",
        "\n"
       ]
      },
      {
       "output_type": "stream",
       "stream": "stdout",
       "text": [
        "trying URL 'http://cran.cnr.Berkeley.edu/bin/macosx/mavericks/contrib/3.1/httr_0.5.tgz'\n",
        "Content type 'application/x-gzip' length 389827 bytes (380 Kb)\n",
        "opened URL\n",
        "========================================"
       ]
      },
      {
       "output_type": "stream",
       "stream": "stdout",
       "text": [
        "==========\n",
        "downloaded 380 Kb\n",
        "\n"
       ]
      },
      {
       "output_type": "stream",
       "stream": "stdout",
       "text": [
        "trying URL 'http://cran.cnr.Berkeley.edu/bin/macosx/mavericks/contrib/3.1/data.table_1.9.2.tgz'\n",
        "Content type 'application/x-gzip' length 1309930 bytes (1.2 Mb)\n",
        "opened URL\n",
        "============"
       ]
      },
      {
       "output_type": "stream",
       "stream": "stdout",
       "text": [
        "============================"
       ]
      },
      {
       "output_type": "stream",
       "stream": "stdout",
       "text": [
        "==========\n",
        "downloaded 1.2 Mb\n",
        "\n"
       ]
      },
      {
       "output_type": "stream",
       "stream": "stdout",
       "text": [
        "trying URL 'http://cran.cnr.Berkeley.edu/bin/macosx/mavericks/contrib/3.1/assertthat_0.1.tgz'\n",
        "Content type 'application/x-gzip' length 43329 bytes (42 Kb)\n",
        "opened URL\n",
        "==================================================\n",
        "downloaded 42 Kb\n",
        "\n"
       ]
      },
      {
       "output_type": "stream",
       "stream": "stdout",
       "text": [
        "trying URL 'http://cran.cnr.Berkeley.edu/bin/macosx/mavericks/contrib/3.1/rjson_0.2.14.tgz'\n",
        "Content type 'application/x-gzip' length 157082 bytes (153 Kb)\n",
        "opened URL\n",
        "==================================================\n",
        "downloaded 153 Kb\n",
        "\n"
       ]
      },
      {
       "output_type": "stream",
       "stream": "stdout",
       "text": [
        "trying URL 'http://cran.cnr.Berkeley.edu/bin/macosx/mavericks/contrib/3.1/rfisheries_0.1.tgz'\n",
        "Content type 'application/x-gzip' length 243869 bytes (238 Kb)\n",
        "opened URL\n",
        "==================================================\n",
        "downloaded 238 Kb\n",
        "\n"
       ]
      },
      {
       "output_type": "stream",
       "stream": "stdout",
       "text": [
        "\n",
        "The downloaded binary packages are in\n",
        "\t/var/folders/bp/vm5h3k411wg_f8gdsrrklfnm0000gn/T//RtmpyvMv5p/downloaded_packages\n"
       ]
      },
      {
       "metadata": {},
       "output_type": "pyout",
       "prompt_number": 10,
       "text": [
        "rpy2.rinterface.NULL"
       ]
      }
     ],
     "prompt_number": 10
    },
    {
     "cell_type": "code",
     "collapsed": false,
     "input": [
      "rfisheries = packages.importr('rfisheries')"
     ],
     "language": "python",
     "metadata": {},
     "outputs": [],
     "prompt_number": 7
    },
    {
     "cell_type": "code",
     "collapsed": false,
     "input": [
      "species = rfisheries.of_species_codes()"
     ],
     "language": "python",
     "metadata": {},
     "outputs": [],
     "prompt_number": 8
    },
    {
     "cell_type": "code",
     "collapsed": false,
     "input": [
      "# By default, rpy2 currently returns an rpy2.robjects proxy for an R DataFrame\n",
      "type(species)"
     ],
     "language": "python",
     "metadata": {},
     "outputs": [
      {
       "metadata": {},
       "output_type": "pyout",
       "prompt_number": 9,
       "text": [
        "rpy2.robjects.vectors.DataFrame"
       ]
      }
     ],
     "prompt_number": 9
    },
    {
     "cell_type": "code",
     "collapsed": false,
     "input": [
      "# But the conversion path to pandas is done\n",
      "# this lets us pass pandas.DataFrame's into R functions, etc.\n",
      "from rpy2.robjects import pandas2ri\n",
      "pandas2ri.activate()\n",
      "\n",
      "pandas2ri.ri2pandas(species).head()"
     ],
     "language": "python",
     "metadata": {},
     "outputs": [
      {
       "html": [
        "<div style=\"max-height:1000px;max-width:1500px;overflow:auto;\">\n",
        "<table border=\"1\" class=\"dataframe\">\n",
        "  <thead>\n",
        "    <tr style=\"text-align: right;\">\n",
        "      <th></th>\n",
        "      <th>scientific_name</th>\n",
        "      <th>taxocode</th>\n",
        "      <th>a3_code</th>\n",
        "      <th>isscaap</th>\n",
        "      <th>english_name</th>\n",
        "    </tr>\n",
        "  </thead>\n",
        "  <tbody>\n",
        "    <tr>\n",
        "      <th>0</th>\n",
        "      <td>     Petromyzon marinus</td>\n",
        "      <td> 1020100101</td>\n",
        "      <td> LAU</td>\n",
        "      <td> 25</td>\n",
        "      <td>             Sea lamprey</td>\n",
        "    </tr>\n",
        "    <tr>\n",
        "      <th>1</th>\n",
        "      <td>   Lampetra fluviatilis</td>\n",
        "      <td> 1020100201</td>\n",
        "      <td> LAR</td>\n",
        "      <td> 25</td>\n",
        "      <td>           River lamprey</td>\n",
        "    </tr>\n",
        "    <tr>\n",
        "      <th>2</th>\n",
        "      <td>    Lampetra tridentata</td>\n",
        "      <td> 1020100202</td>\n",
        "      <td> LAO</td>\n",
        "      <td> 25</td>\n",
        "      <td>         Pacific lamprey</td>\n",
        "    </tr>\n",
        "    <tr>\n",
        "      <th>3</th>\n",
        "      <td> Ichthyomyzon unicuspis</td>\n",
        "      <td> 1020100401</td>\n",
        "      <td> LAY</td>\n",
        "      <td> 25</td>\n",
        "      <td>          Silver lamprey</td>\n",
        "    </tr>\n",
        "    <tr>\n",
        "      <th>4</th>\n",
        "      <td>    Eudontomyzon mariae</td>\n",
        "      <td> 1020100501</td>\n",
        "      <td> LAF</td>\n",
        "      <td> 25</td>\n",
        "      <td> Ukrainian brook lamprey</td>\n",
        "    </tr>\n",
        "  </tbody>\n",
        "</table>\n",
        "</div>"
       ],
       "metadata": {},
       "output_type": "pyout",
       "prompt_number": 10,
       "text": [
        "          scientific_name    taxocode a3_code  isscaap  \\\n",
        "0      Petromyzon marinus  1020100101     LAU       25   \n",
        "1    Lampetra fluviatilis  1020100201     LAR       25   \n",
        "2     Lampetra tridentata  1020100202     LAO       25   \n",
        "3  Ichthyomyzon unicuspis  1020100401     LAY       25   \n",
        "4     Eudontomyzon mariae  1020100501     LAF       25   \n",
        "\n",
        "              english_name  \n",
        "0              Sea lamprey  \n",
        "1            River lamprey  \n",
        "2          Pacific lamprey  \n",
        "3           Silver lamprey  \n",
        "4  Ukrainian brook lamprey  "
       ]
      }
     ],
     "prompt_number": 10
    },
    {
     "cell_type": "markdown",
     "metadata": {},
     "source": [
      "Now we tackle some \"functional programming\""
     ]
    },
    {
     "cell_type": "code",
     "collapsed": false,
     "input": [
      "who = [\"TUX\", \"COD\", \"VET\", \"NPA\"]"
     ],
     "language": "python",
     "metadata": {},
     "outputs": [],
     "prompt_number": 11
    },
    {
     "cell_type": "code",
     "collapsed": false,
     "input": [
      "# So, this is crazy, we can use python approaches to functional programming - we don't want to learn plyr!\n",
      "plyr = packages.importr('plyr')\n",
      "species_data = plyr.ldply(who, lambda x: rfisheries.of_landings(species = x))"
     ],
     "language": "python",
     "metadata": {},
     "outputs": [
      {
       "ename": "ValueError",
       "evalue": "Nothing can be done for the type <type 'function'> at the moment.",
       "output_type": "pyerr",
       "traceback": [
        "\u001b[0;31m---------------------------------------------------------------------------\u001b[0m\n\u001b[0;31mValueError\u001b[0m                                Traceback (most recent call last)",
        "\u001b[0;32m<ipython-input-12-c4dde4c566c9>\u001b[0m in \u001b[0;36m<module>\u001b[0;34m()\u001b[0m\n\u001b[1;32m      1\u001b[0m \u001b[0;31m# So, this is crazy, we can use python approaches to functional programming - we don't want to learn plyr!\u001b[0m\u001b[0;34m\u001b[0m\u001b[0;34m\u001b[0m\u001b[0m\n\u001b[1;32m      2\u001b[0m \u001b[0mplyr\u001b[0m \u001b[0;34m=\u001b[0m \u001b[0mpackages\u001b[0m\u001b[0;34m.\u001b[0m\u001b[0mimportr\u001b[0m\u001b[0;34m(\u001b[0m\u001b[0;34m'plyr'\u001b[0m\u001b[0;34m)\u001b[0m\u001b[0;34m\u001b[0m\u001b[0m\n\u001b[0;32m----> 3\u001b[0;31m \u001b[0mspecies_data\u001b[0m \u001b[0;34m=\u001b[0m \u001b[0mplyr\u001b[0m\u001b[0;34m.\u001b[0m\u001b[0mldply\u001b[0m\u001b[0;34m(\u001b[0m\u001b[0mwho\u001b[0m\u001b[0;34m,\u001b[0m \u001b[0;32mlambda\u001b[0m \u001b[0mx\u001b[0m\u001b[0;34m:\u001b[0m \u001b[0mrfisheries\u001b[0m\u001b[0;34m.\u001b[0m\u001b[0mof_landings\u001b[0m\u001b[0;34m(\u001b[0m\u001b[0mspecies\u001b[0m \u001b[0;34m=\u001b[0m \u001b[0mx\u001b[0m\u001b[0;34m)\u001b[0m\u001b[0;34m)\u001b[0m\u001b[0;34m\u001b[0m\u001b[0m\n\u001b[0m",
        "\u001b[0;32m/opt/anaconda/lib/python2.7/site-packages/rpy2/robjects/functions.pyc\u001b[0m in \u001b[0;36m__call__\u001b[0;34m(self, *args, **kwargs)\u001b[0m\n\u001b[1;32m    164\u001b[0m                 \u001b[0mv\u001b[0m \u001b[0;34m=\u001b[0m \u001b[0mkwargs\u001b[0m\u001b[0;34m.\u001b[0m\u001b[0mpop\u001b[0m\u001b[0;34m(\u001b[0m\u001b[0mk\u001b[0m\u001b[0;34m)\u001b[0m\u001b[0;34m\u001b[0m\u001b[0m\n\u001b[1;32m    165\u001b[0m                 \u001b[0mkwargs\u001b[0m\u001b[0;34m[\u001b[0m\u001b[0mr_k\u001b[0m\u001b[0;34m]\u001b[0m \u001b[0;34m=\u001b[0m \u001b[0mv\u001b[0m\u001b[0;34m\u001b[0m\u001b[0m\n\u001b[0;32m--> 166\u001b[0;31m         \u001b[0;32mreturn\u001b[0m \u001b[0msuper\u001b[0m\u001b[0;34m(\u001b[0m\u001b[0mSignatureTranslatedFunction\u001b[0m\u001b[0;34m,\u001b[0m \u001b[0mself\u001b[0m\u001b[0;34m)\u001b[0m\u001b[0;34m.\u001b[0m\u001b[0m__call__\u001b[0m\u001b[0;34m(\u001b[0m\u001b[0;34m*\u001b[0m\u001b[0margs\u001b[0m\u001b[0;34m,\u001b[0m \u001b[0;34m**\u001b[0m\u001b[0mkwargs\u001b[0m\u001b[0;34m)\u001b[0m\u001b[0;34m\u001b[0m\u001b[0m\n\u001b[0m\u001b[1;32m    167\u001b[0m \u001b[0;34m\u001b[0m\u001b[0m\n\u001b[1;32m    168\u001b[0m \u001b[0mpattern_link\u001b[0m \u001b[0;34m=\u001b[0m \u001b[0mre\u001b[0m\u001b[0;34m.\u001b[0m\u001b[0mcompile\u001b[0m\u001b[0;34m(\u001b[0m\u001b[0;34mr'\\\\link\\{(.+?)\\}'\u001b[0m\u001b[0;34m)\u001b[0m\u001b[0;34m\u001b[0m\u001b[0m\n",
        "\u001b[0;32m/opt/anaconda/lib/python2.7/site-packages/rpy2/robjects/functions.pyc\u001b[0m in \u001b[0;36m__call__\u001b[0;34m(self, *args, **kwargs)\u001b[0m\n\u001b[1;32m     93\u001b[0m \u001b[0;34m\u001b[0m\u001b[0m\n\u001b[1;32m     94\u001b[0m     \u001b[0;32mdef\u001b[0m \u001b[0m__call__\u001b[0m\u001b[0;34m(\u001b[0m\u001b[0mself\u001b[0m\u001b[0;34m,\u001b[0m \u001b[0;34m*\u001b[0m\u001b[0margs\u001b[0m\u001b[0;34m,\u001b[0m \u001b[0;34m**\u001b[0m\u001b[0mkwargs\u001b[0m\u001b[0;34m)\u001b[0m\u001b[0;34m:\u001b[0m\u001b[0;34m\u001b[0m\u001b[0m\n\u001b[0;32m---> 95\u001b[0;31m         \u001b[0mnew_args\u001b[0m \u001b[0;34m=\u001b[0m \u001b[0;34m[\u001b[0m\u001b[0mconversion\u001b[0m\u001b[0;34m.\u001b[0m\u001b[0mpy2ri\u001b[0m\u001b[0;34m(\u001b[0m\u001b[0ma\u001b[0m\u001b[0;34m)\u001b[0m \u001b[0;32mfor\u001b[0m \u001b[0ma\u001b[0m \u001b[0;32min\u001b[0m \u001b[0margs\u001b[0m\u001b[0;34m]\u001b[0m\u001b[0;34m\u001b[0m\u001b[0m\n\u001b[0m\u001b[1;32m     96\u001b[0m         \u001b[0mnew_kwargs\u001b[0m \u001b[0;34m=\u001b[0m \u001b[0;34m{\u001b[0m\u001b[0;34m}\u001b[0m\u001b[0;34m\u001b[0m\u001b[0m\n\u001b[1;32m     97\u001b[0m         \u001b[0;32mfor\u001b[0m \u001b[0mk\u001b[0m\u001b[0;34m,\u001b[0m \u001b[0mv\u001b[0m \u001b[0;32min\u001b[0m \u001b[0mkwargs\u001b[0m\u001b[0;34m.\u001b[0m\u001b[0mitems\u001b[0m\u001b[0;34m(\u001b[0m\u001b[0;34m)\u001b[0m\u001b[0;34m:\u001b[0m\u001b[0;34m\u001b[0m\u001b[0m\n",
        "\u001b[0;32m/opt/anaconda/lib/python2.7/site-packages/rpy2/robjects/pandas2ri.pyc\u001b[0m in \u001b[0;36mpandas2ri\u001b[0;34m(obj)\u001b[0m\n\u001b[1;32m     61\u001b[0m         \u001b[0;32mreturn\u001b[0m \u001b[0mres\u001b[0m\u001b[0;34m\u001b[0m\u001b[0m\n\u001b[1;32m     62\u001b[0m     \u001b[0;32melse\u001b[0m\u001b[0;34m:\u001b[0m\u001b[0;34m\u001b[0m\u001b[0m\n\u001b[0;32m---> 63\u001b[0;31m         \u001b[0;32mreturn\u001b[0m \u001b[0moriginal_py2ri\u001b[0m\u001b[0;34m(\u001b[0m\u001b[0mobj\u001b[0m\u001b[0;34m)\u001b[0m\u001b[0;34m\u001b[0m\u001b[0m\n\u001b[0m\u001b[1;32m     64\u001b[0m \u001b[0;34m\u001b[0m\u001b[0m\n\u001b[1;32m     65\u001b[0m \u001b[0;32mdef\u001b[0m \u001b[0mri2pandas\u001b[0m\u001b[0;34m(\u001b[0m\u001b[0mo\u001b[0m\u001b[0;34m)\u001b[0m\u001b[0;34m:\u001b[0m\u001b[0;34m\u001b[0m\u001b[0m\n",
        "\u001b[0;32m/opt/anaconda/lib/python2.7/site-packages/rpy2/robjects/numpy2ri.pyc\u001b[0m in \u001b[0;36mnumpy2ri\u001b[0;34m(o)\u001b[0m\n\u001b[1;32m     76\u001b[0m             \u001b[0;32mraise\u001b[0m\u001b[0;34m(\u001b[0m\u001b[0mValueError\u001b[0m\u001b[0;34m(\u001b[0m\u001b[0;34m\"Unknown numpy array type.\"\u001b[0m\u001b[0;34m)\u001b[0m\u001b[0;34m)\u001b[0m\u001b[0;34m\u001b[0m\u001b[0m\n\u001b[1;32m     77\u001b[0m     \u001b[0;32melse\u001b[0m\u001b[0;34m:\u001b[0m\u001b[0;34m\u001b[0m\u001b[0m\n\u001b[0;32m---> 78\u001b[0;31m         \u001b[0mres\u001b[0m \u001b[0;34m=\u001b[0m \u001b[0mro\u001b[0m\u001b[0;34m.\u001b[0m\u001b[0mdefault_py2ri\u001b[0m\u001b[0;34m(\u001b[0m\u001b[0mo\u001b[0m\u001b[0;34m)\u001b[0m\u001b[0;34m\u001b[0m\u001b[0m\n\u001b[0m\u001b[1;32m     79\u001b[0m     \u001b[0;32mreturn\u001b[0m \u001b[0mres\u001b[0m\u001b[0;34m\u001b[0m\u001b[0m\n\u001b[1;32m     80\u001b[0m \u001b[0;34m\u001b[0m\u001b[0m\n",
        "\u001b[0;32m/opt/anaconda/lib/python2.7/site-packages/rpy2/robjects/__init__.pyc\u001b[0m in \u001b[0;36mdefault_py2ri\u001b[0;34m(o)\u001b[0m\n\u001b[1;32m    154\u001b[0m         \u001b[0mres\u001b[0m \u001b[0;34m=\u001b[0m \u001b[0mrinterface\u001b[0m\u001b[0;34m.\u001b[0m\u001b[0mSexpVector\u001b[0m\u001b[0;34m(\u001b[0m\u001b[0;34m[\u001b[0m\u001b[0mo\u001b[0m\u001b[0;34m,\u001b[0m \u001b[0;34m]\u001b[0m\u001b[0;34m,\u001b[0m \u001b[0mrinterface\u001b[0m\u001b[0;34m.\u001b[0m\u001b[0mCPLXSXP\u001b[0m\u001b[0;34m)\u001b[0m\u001b[0;34m\u001b[0m\u001b[0m\n\u001b[1;32m    155\u001b[0m     \u001b[0;32melse\u001b[0m\u001b[0;34m:\u001b[0m\u001b[0;34m\u001b[0m\u001b[0m\n\u001b[0;32m--> 156\u001b[0;31m         \u001b[0;32mraise\u001b[0m\u001b[0;34m(\u001b[0m\u001b[0mValueError\u001b[0m\u001b[0;34m(\u001b[0m\u001b[0;34m\"Nothing can be done for the type %s at the moment.\"\u001b[0m \u001b[0;34m%\u001b[0m\u001b[0;34m(\u001b[0m\u001b[0mtype\u001b[0m\u001b[0;34m(\u001b[0m\u001b[0mo\u001b[0m\u001b[0;34m)\u001b[0m\u001b[0;34m)\u001b[0m\u001b[0;34m)\u001b[0m\u001b[0;34m)\u001b[0m\u001b[0;34m\u001b[0m\u001b[0m\n\u001b[0m\u001b[1;32m    157\u001b[0m     \u001b[0;32mreturn\u001b[0m \u001b[0mres\u001b[0m\u001b[0;34m\u001b[0m\u001b[0m\n\u001b[1;32m    158\u001b[0m \u001b[0;34m\u001b[0m\u001b[0m\n",
        "\u001b[0;31mValueError\u001b[0m: Nothing can be done for the type <type 'function'> at the moment."
       ]
      }
     ],
     "prompt_number": 12
    },
    {
     "cell_type": "code",
     "collapsed": false,
     "input": [
      "# this works just fine... but we are still stuck with rpy2 proxies\n",
      "species_data = [rfisheries.of_landings(x) for x in who]"
     ],
     "language": "python",
     "metadata": {},
     "outputs": [],
     "prompt_number": 13
    },
    {
     "cell_type": "code",
     "collapsed": false,
     "input": [
      "species_data[1]"
     ],
     "language": "python",
     "metadata": {},
     "outputs": [
      {
       "metadata": {},
       "output_type": "pyout",
       "prompt_number": 14,
       "text": [
        "<DataFrame - Python:0x124e5e0e0 / R:0x1117815b0>\n",
        "[FloatVector, FloatVector, FactorVector]\n",
        "  catch: <class 'rpy2.robjects.vectors.FloatVector'>\n",
        "  <FloatVector - Python:0x124e5e200 / R:0x107cf05b0>\n",
        "[43500.000000, 38300.000000, 49200.000000, ..., 236000.000000, 236000.000000, 236000.000000]\n",
        "  year: <class 'rpy2.robjects.vectors.FloatVector'>\n",
        "  <FloatVector - Python:0x124e5e368 / R:0x107cf07d0>\n",
        "[1950.000000, 1951.000000, 1952.000000, ..., 2009.000000, 2010.000000, 2011.000000]\n",
        "  country: <class 'rpy2.robjects.vectors.FactorVector'>\n",
        "  <FactorVector - Python:0x124e5e5a8 / R:0x116ae07c0>\n",
        "[       1,        1,        1, ...,        1,        1,        1]"
       ]
      }
     ],
     "prompt_number": 14
    },
    {
     "cell_type": "code",
     "collapsed": false,
     "input": [
      "species_data_dfs = [pandas2ri.ri2pandas( rfisheries.of_landings(x) ) for x in who]"
     ],
     "language": "python",
     "metadata": {},
     "outputs": [],
     "prompt_number": 16
    },
    {
     "cell_type": "code",
     "collapsed": false,
     "input": [
      "species_data_dfs[1].head()"
     ],
     "language": "python",
     "metadata": {},
     "outputs": [
      {
       "html": [
        "<div style=\"max-height:1000px;max-width:1500px;overflow:auto;\">\n",
        "<table border=\"1\" class=\"dataframe\">\n",
        "  <thead>\n",
        "    <tr style=\"text-align: right;\">\n",
        "      <th></th>\n",
        "      <th>catch</th>\n",
        "      <th>year</th>\n",
        "      <th>country</th>\n",
        "    </tr>\n",
        "  </thead>\n",
        "  <tbody>\n",
        "    <tr>\n",
        "      <th>0</th>\n",
        "      <td> 43500</td>\n",
        "      <td> 1950</td>\n",
        "      <td> COD</td>\n",
        "    </tr>\n",
        "    <tr>\n",
        "      <th>1</th>\n",
        "      <td> 38300</td>\n",
        "      <td> 1951</td>\n",
        "      <td> COD</td>\n",
        "    </tr>\n",
        "    <tr>\n",
        "      <th>2</th>\n",
        "      <td> 49200</td>\n",
        "      <td> 1952</td>\n",
        "      <td> COD</td>\n",
        "    </tr>\n",
        "    <tr>\n",
        "      <th>3</th>\n",
        "      <td> 66600</td>\n",
        "      <td> 1953</td>\n",
        "      <td> COD</td>\n",
        "    </tr>\n",
        "    <tr>\n",
        "      <th>4</th>\n",
        "      <td> 65700</td>\n",
        "      <td> 1954</td>\n",
        "      <td> COD</td>\n",
        "    </tr>\n",
        "  </tbody>\n",
        "</table>\n",
        "</div>"
       ],
       "metadata": {},
       "output_type": "pyout",
       "prompt_number": 17,
       "text": [
        "   catch  year country\n",
        "0  43500  1950     COD\n",
        "1  38300  1951     COD\n",
        "2  49200  1952     COD\n",
        "3  66600  1953     COD\n",
        "4  65700  1954     COD"
       ]
      }
     ],
     "prompt_number": 17
    },
    {
     "cell_type": "code",
     "collapsed": false,
     "input": [
      "cod = species_data_dfs[1]"
     ],
     "language": "python",
     "metadata": {},
     "outputs": [],
     "prompt_number": 18
    },
    {
     "cell_type": "code",
     "collapsed": false,
     "input": [
      "cod.head()"
     ],
     "language": "python",
     "metadata": {},
     "outputs": [
      {
       "html": [
        "<div style=\"max-height:1000px;max-width:1500px;overflow:auto;\">\n",
        "<table border=\"1\" class=\"dataframe\">\n",
        "  <thead>\n",
        "    <tr style=\"text-align: right;\">\n",
        "      <th></th>\n",
        "      <th>catch</th>\n",
        "      <th>year</th>\n",
        "      <th>country</th>\n",
        "    </tr>\n",
        "  </thead>\n",
        "  <tbody>\n",
        "    <tr>\n",
        "      <th>0</th>\n",
        "      <td> 43500</td>\n",
        "      <td> 1950</td>\n",
        "      <td> COD</td>\n",
        "    </tr>\n",
        "    <tr>\n",
        "      <th>1</th>\n",
        "      <td> 38300</td>\n",
        "      <td> 1951</td>\n",
        "      <td> COD</td>\n",
        "    </tr>\n",
        "    <tr>\n",
        "      <th>2</th>\n",
        "      <td> 49200</td>\n",
        "      <td> 1952</td>\n",
        "      <td> COD</td>\n",
        "    </tr>\n",
        "    <tr>\n",
        "      <th>3</th>\n",
        "      <td> 66600</td>\n",
        "      <td> 1953</td>\n",
        "      <td> COD</td>\n",
        "    </tr>\n",
        "    <tr>\n",
        "      <th>4</th>\n",
        "      <td> 65700</td>\n",
        "      <td> 1954</td>\n",
        "      <td> COD</td>\n",
        "    </tr>\n",
        "  </tbody>\n",
        "</table>\n",
        "</div>"
       ],
       "metadata": {},
       "output_type": "pyout",
       "prompt_number": 19,
       "text": [
        "   catch  year country\n",
        "0  43500  1950     COD\n",
        "1  38300  1951     COD\n",
        "2  49200  1952     COD\n",
        "3  66600  1953     COD\n",
        "4  65700  1954     COD"
       ]
      }
     ],
     "prompt_number": 19
    },
    {
     "cell_type": "code",
     "collapsed": false,
     "input": [
      "%load_ext rpy2.ipython"
     ],
     "language": "python",
     "metadata": {},
     "outputs": [],
     "prompt_number": 26
    },
    {
     "cell_type": "markdown",
     "metadata": {},
     "source": [
      "It's still much cleaner to do something like this in R directly"
     ]
    },
    {
     "cell_type": "code",
     "collapsed": false,
     "input": [
      "%%R -i cod\n",
      "summary(lm(catch ~ year, cod))"
     ],
     "language": "python",
     "metadata": {},
     "outputs": [
      {
       "metadata": {},
       "output_type": "display_data",
       "text": [
        "\n",
        "Call:\n",
        "lm(formula = catch ~ year, data = cod)\n",
        "\n",
        "Residuals:\n",
        "   Min     1Q Median     3Q    Max \n",
        "-49415 -17127  -4202  16765  73022 \n",
        "\n",
        "Coefficients:\n",
        "              Estimate Std. Error t value Pr(>|t|)    \n",
        "(Intercept) -5718024.5   360321.8  -15.87   <2e-16 ***\n",
        "year            2959.9      181.9   16.27   <2e-16 ***\n",
        "---\n",
        "Signif. codes:  0 \u2018***\u2019 0.001 \u2018**\u2019 0.01 \u2018*\u2019 0.05 \u2018.\u2019 0.1 \u2018 \u2019 1\n",
        "\n",
        "Residual standard error: 25640 on 60 degrees of freedom\n",
        "Multiple R-squared:  0.8152,\tAdjusted R-squared:  0.8121 \n",
        "F-statistic: 264.7 on 1 and 60 DF,  p-value: < 2.2e-16\n",
        "\n"
       ]
      }
     ],
     "prompt_number": 27
    },
    {
     "cell_type": "code",
     "collapsed": false,
     "input": [],
     "language": "python",
     "metadata": {},
     "outputs": []
    }
   ],
   "metadata": {}
  }
 ]
}