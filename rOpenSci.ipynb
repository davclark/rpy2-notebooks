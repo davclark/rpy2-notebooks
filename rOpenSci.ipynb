{
 "metadata": {
  "name": "",
  "signature": "sha256:cf18c26e9a9552ef1301e240e020d0cd0c333efd7d6bf147dcdd575f41ee0de0"
 },
 "nbformat": 3,
 "nbformat_minor": 0,
 "worksheets": [
  {
   "cells": [
    {
     "cell_type": "code",
     "collapsed": false,
     "input": [
      "import sys\n",
      "import rpy2\n",
      "print('python:', sys.version)\n",
      "print('rpy2:', rpy2.__version__)"
     ],
     "language": "python",
     "metadata": {},
     "outputs": [
      {
       "output_type": "stream",
       "stream": "stdout",
       "text": [
        "python: 3.4.2 |Continuum Analytics, Inc.| (default, Oct 21 2014, 17:42:20) \n",
        "[GCC 4.2.1 (Apple Inc. build 5577)]\n",
        "rpy2: 2.5.2\n"
       ]
      }
     ],
     "prompt_number": 1
    },
    {
     "cell_type": "code",
     "collapsed": false,
     "input": [
      "%load_ext rpy2.ipython\n",
      "\n",
      "import rpy2.robjects as ro\n",
      "from rpy2.robjects import packages\n",
      "from rpy2.robjects.conversion import ri2py\n",
      "from rpy2.robjects import pandas2ri"
     ],
     "language": "python",
     "metadata": {},
     "outputs": [],
     "prompt_number": 11
    },
    {
     "cell_type": "markdown",
     "metadata": {},
     "source": [
      "## Interacting with R\n",
      "\n",
      "We demonstrate interacting with R using package installation (likely a necessary piece for many serious R users!)"
     ]
    },
    {
     "cell_type": "code",
     "collapsed": false,
     "input": [
      "packages.isinstalled('rdryad')"
     ],
     "language": "python",
     "metadata": {},
     "outputs": [
      {
       "metadata": {},
       "output_type": "pyout",
       "prompt_number": 3,
       "text": [
        "True"
       ]
      }
     ],
     "prompt_number": 3
    },
    {
     "cell_type": "code",
     "collapsed": false,
     "input": [
      "utils = packages.importr('utils')\n",
      "mirrors = ri2py(utils.getCRANmirrors())\n",
      "mirrors"
     ],
     "language": "python",
     "metadata": {},
     "outputs": [
      {
       "metadata": {},
       "output_type": "pyout",
       "prompt_number": 4,
       "text": [
        "<DataFrame - Python:0x10c2bb148 / R:0x103d855b0>\n",
        "[StrVe..., StrVe..., StrVe..., ..., StrVe..., IntVe..., StrVe...]\n",
        "  Name: <class 'rpy2.robjects.vectors.StrVector'>\n",
        "  <StrVector - Python:0x10c504448 / R:0x10c408f60>\n",
        "['0-Cl..., 'Arge..., 'Arge..., ..., 'USA ..., 'Vene..., 'Viet...]\n",
        "  Country: <class 'rpy2.robjects.vectors.StrVector'>\n",
        "  <StrVector - Python:0x10c2b1a88 / R:0x10c40c840>\n",
        "['0-Cl..., 'Arge..., 'Arge..., ..., 'USA', 'Vene..., 'Viet...]\n",
        "  City: <class 'rpy2.robjects.vectors.StrVector'>\n",
        "  <StrVector - Python:0x10c2e5a88 / R:0x105fecc40>\n",
        "['0-Cl..., 'La P..., 'Mend..., ..., 'Bell..., 'Vale..., 'Can ...]\n",
        "  ...\n",
        "  Name: <class 'rpy2.robjects.vectors.StrVector'>\n",
        "  <StrVector - Python:0x10c2d3508 / R:0x10c423680>\n",
        "['wins..., 'esua..., 'pcas..., ..., 'CS.S..., 'dir-..., 'cont...]\n",
        "  Country: <class 'rpy2.robjects.vectors.IntVector'>\n",
        "  <IntVector - Python:0x10c2d18c8 / R:0x10c42a730>\n",
        "[       1,        1,        1, ...,        1,        1,        1]\n",
        "  City: <class 'rpy2.robjects.vectors.StrVector'>\n",
        "  <StrVector - Python:0x10c29f3c8 / R:0x10c4042a0>\n",
        "['us', 'ar', 'ar', ..., 'us', 've', 'vn']"
       ]
      }
     ],
     "prompt_number": 4
    },
    {
     "cell_type": "code",
     "collapsed": false,
     "input": [
      "%%R\n",
      "getCRANmirrors()[1:5,]"
     ],
     "language": "python",
     "metadata": {},
     "outputs": [
      {
       "metadata": {},
       "output_type": "display_data",
       "text": [
        "                   Name   Country      City\n",
        "1               0-Cloud   0-Cloud   0-Cloud\n",
        "2  Argentina (La Plata) Argentina  La Plata\n",
        "3   Argentina (Mendoza) Argentina   Mendoza\n",
        "4  Australia (Canberra) Australia  Canberra\n",
        "5 Australia (Melbourne) Australia Melbourne\n",
        "                                      URL\n",
        "1                http://cran.rstudio.com/\n",
        "2  http://mirror.fcaglp.unlp.edu.ar/CRAN/\n",
        "3 http://r.mirror.mendoza-conicet.gob.ar/\n",
        "4                   http://cran.csiro.au/\n",
        "5          http://cran.ms.unimelb.edu.au/\n",
        "                                                 Host\n",
        "1 Rstudio, automatic redirection to servers worldwide\n",
        "2                    Universidad Nacional de La Plata\n",
        "3                                     CONICET Mendoza\n",
        "4                                               CSIRO\n",
        "5                             University of Melbourne\n",
        "                                         Maintainer OK CountryCode\n",
        "1                              winston # stdout.org  1          us\n",
        "2                      esuarez # Fcaglp.unlp.edu.ar  1          ar\n",
        "3               pcastorino # Mendoza-conicet.gob.ar  1          ar\n",
        "4 Bill.Venables # CSIRO.au, ServiceDesk2 # CSIRO.au  1          au\n",
        "5                          cran # ms.unimelb.edu.au  1          au\n"
       ]
      }
     ],
     "prompt_number": 12
    },
    {
     "cell_type": "code",
     "collapsed": false,
     "input": [
      "print(mirrors.colnames)"
     ],
     "language": "python",
     "metadata": {},
     "outputs": [
      {
       "output_type": "stream",
       "stream": "stdout",
       "text": [
        "[1] \"Name\"        \"Country\"     \"City\"        \"URL\"         \"Host\"       \n",
        "[6] \"Maintainer\"  \"OK\"          \"CountryCode\"\n",
        "\n"
       ]
      }
     ],
     "prompt_number": 14
    },
    {
     "cell_type": "code",
     "collapsed": false,
     "input": [
      "utils.chooseCRANmirror(ind=1) # Note R is 1-offset, python is 0-offset :|\n",
      "utils.install_packages(\"rdryad\")"
     ],
     "language": "python",
     "metadata": {},
     "outputs": [
      {
       "output_type": "stream",
       "stream": "stdout",
       "text": [
        "trying URL 'http://cran.rstudio.com/bin/macosx/mavericks/contrib/3.1/rdryad_0.1.1.tgz'\n",
        "\n",
        "Content type 'application/x-gzip'"
       ]
      },
      {
       "output_type": "stream",
       "stream": "stdout",
       "text": [
        "\n",
        " length 37365 bytes (36 Kb)\n",
        "\n",
        "opened URL\n",
        "\n",
        "=\n",
        "=\n",
        "=\n",
        "=\n",
        "=\n",
        "=\n",
        "=\n",
        "=\n",
        "=\n",
        "=\n",
        "=\n",
        "=\n",
        "=\n",
        "=\n",
        "=\n",
        "=\n",
        "=\n",
        "=\n",
        "=\n",
        "=\n",
        "=\n",
        "=\n",
        "=\n",
        "=\n",
        "=\n",
        "=\n",
        "=\n",
        "=\n",
        "=\n",
        "=\n",
        "=\n",
        "=\n",
        "=\n",
        "=\n",
        "=\n",
        "=\n",
        "=\n",
        "=\n",
        "=\n",
        "=\n",
        "=\n",
        "=\n",
        "=\n",
        "=\n",
        "=\n",
        "=\n",
        "=\n",
        "=\n",
        "=\n",
        "=\n",
        "\n",
        "\n",
        "downloaded 36 Kb\n",
        "\n",
        "\n"
       ]
      },
      {
       "output_type": "stream",
       "stream": "stdout",
       "text": [
        "\n",
        "\n",
        "\n",
        "The downloaded binary packages are in\n",
        "\t/var/folders/bp/vm5h3k411wg_f8gdsrrklfnm0000gn/T//RtmpX4CMym/downloaded_packages\n",
        "\n",
        "\n",
        "\n"
       ]
      },
      {
       "metadata": {},
       "output_type": "pyout",
       "prompt_number": 15,
       "text": [
        "rpy2.rinterface.NULL"
       ]
      }
     ],
     "prompt_number": 15
    },
    {
     "cell_type": "code",
     "collapsed": false,
     "input": [
      "# You could also do it this way...\n",
      "ro.r('install.packages(\"rdryad\")')"
     ],
     "language": "python",
     "metadata": {},
     "outputs": []
    },
    {
     "cell_type": "code",
     "collapsed": false,
     "input": [
      "# We can manage namespaces in python in a way I like better than R!\n",
      "rdryad = packages.importr('rdryad')"
     ],
     "language": "python",
     "metadata": {},
     "outputs": [],
     "prompt_number": 16
    },
    {
     "cell_type": "code",
     "collapsed": false,
     "input": [
      "rdryad.download_url?"
     ],
     "language": "python",
     "metadata": {},
     "outputs": [],
     "prompt_number": 17
    },
    {
     "cell_type": "code",
     "collapsed": false,
     "input": [
      "raw_results = rdryad.download_url('10255/dryad.19')\n",
      "raw_results"
     ],
     "language": "python",
     "metadata": {},
     "outputs": [
      {
       "metadata": {},
       "output_type": "pyout",
       "prompt_number": 18,
       "text": [
        "<StrVector - Python:0x10c5ba1c8 / R:0x11ffcd698>\n",
        "['http://datadryad.org//bitstream/handle/10255/dry...]"
       ]
      }
     ],
     "prompt_number": 18
    },
    {
     "cell_type": "code",
     "collapsed": false,
     "input": [
      "ri2py(raw_results)"
     ],
     "language": "python",
     "metadata": {},
     "outputs": [
      {
       "metadata": {},
       "output_type": "pyout",
       "prompt_number": 19,
       "text": [
        "array([ 'http://datadryad.org//bitstream/handle/10255/dryad.19/sporedata.xls?sequence=1'], \n",
        "      dtype='<U78')"
       ]
      }
     ],
     "prompt_number": 19
    },
    {
     "cell_type": "code",
     "collapsed": false,
     "input": [
      "# This will automatically convert a variety of numpy and pandas datatypes \n",
      "# if you use them in calls to R\n",
      "# It won't do the conversion automatically on the way back out\n",
      "pandas2ri.activate()"
     ],
     "language": "python",
     "metadata": {},
     "outputs": []
    },
    {
     "cell_type": "markdown",
     "metadata": {},
     "source": [
      "## Some more interesting data\n",
      "\n",
      "We'll download some rfisheries data"
     ]
    },
    {
     "cell_type": "code",
     "collapsed": false,
     "input": [
      "packages.isinstalled('rfisheries')"
     ],
     "language": "python",
     "metadata": {},
     "outputs": []
    },
    {
     "cell_type": "code",
     "collapsed": false,
     "input": [
      "ro.r('install.packages(\"rfisheries\")')"
     ],
     "language": "python",
     "metadata": {},
     "outputs": []
    },
    {
     "cell_type": "code",
     "collapsed": false,
     "input": [
      "rfisheries = packages.importr('rfisheries')"
     ],
     "language": "python",
     "metadata": {},
     "outputs": []
    },
    {
     "cell_type": "code",
     "collapsed": false,
     "input": [
      "species = rfisheries.of_species_codes()"
     ],
     "language": "python",
     "metadata": {},
     "outputs": []
    },
    {
     "cell_type": "code",
     "collapsed": false,
     "input": [
      "# By default, rpy2 currently returns an rpy2.robjects proxy for an R DataFrame\n",
      "type(species)"
     ],
     "language": "python",
     "metadata": {},
     "outputs": []
    },
    {
     "cell_type": "code",
     "collapsed": false,
     "input": [
      "# But the conversion path to pandas is done\n",
      "# this lets us pass pandas.DataFrame's into R functions, etc.\n",
      "from rpy2.robjects import pandas2ri\n",
      "pandas2ri.activate()\n",
      "\n",
      "pandas2ri.ri2pandas(species).head()"
     ],
     "language": "python",
     "metadata": {},
     "outputs": []
    },
    {
     "cell_type": "markdown",
     "metadata": {},
     "source": [
      "Now we tackle some \"functional programming\""
     ]
    },
    {
     "cell_type": "code",
     "collapsed": false,
     "input": [
      "who = [\"TUX\", \"COD\", \"VET\", \"NPA\"]"
     ],
     "language": "python",
     "metadata": {},
     "outputs": []
    },
    {
     "cell_type": "code",
     "collapsed": false,
     "input": [
      "# So, this is crazy, we can use python approaches to functional programming - we don't want to learn plyr!\n",
      "plyr = packages.importr('plyr')\n",
      "species_data = plyr.ldply(who, lambda x: rfisheries.of_landings(species = x))"
     ],
     "language": "python",
     "metadata": {},
     "outputs": []
    },
    {
     "cell_type": "code",
     "collapsed": false,
     "input": [
      "# this works just fine... but we are still stuck with rpy2 proxies\n",
      "species_data = [rfisheries.of_landings(x) for x in who]"
     ],
     "language": "python",
     "metadata": {},
     "outputs": []
    },
    {
     "cell_type": "code",
     "collapsed": false,
     "input": [
      "species_data[1]"
     ],
     "language": "python",
     "metadata": {},
     "outputs": []
    },
    {
     "cell_type": "code",
     "collapsed": false,
     "input": [
      "species_data_dfs = [pandas2ri.ri2pandas( rfisheries.of_landings(x) ) for x in who]"
     ],
     "language": "python",
     "metadata": {},
     "outputs": []
    },
    {
     "cell_type": "code",
     "collapsed": false,
     "input": [
      "species_data_dfs[1].head()"
     ],
     "language": "python",
     "metadata": {},
     "outputs": []
    },
    {
     "cell_type": "code",
     "collapsed": false,
     "input": [
      "cod = species_data_dfs[1]"
     ],
     "language": "python",
     "metadata": {},
     "outputs": []
    },
    {
     "cell_type": "code",
     "collapsed": false,
     "input": [
      "cod.head()"
     ],
     "language": "python",
     "metadata": {},
     "outputs": []
    },
    {
     "cell_type": "code",
     "collapsed": false,
     "input": [
      "%load_ext rpy2.ipython"
     ],
     "language": "python",
     "metadata": {},
     "outputs": []
    },
    {
     "cell_type": "markdown",
     "metadata": {},
     "source": [
      "It's still much cleaner to do something like this in R directly"
     ]
    },
    {
     "cell_type": "code",
     "collapsed": false,
     "input": [
      "%%R -i cod\n",
      "summary(lm(catch ~ year, cod))"
     ],
     "language": "python",
     "metadata": {},
     "outputs": []
    },
    {
     "cell_type": "code",
     "collapsed": false,
     "input": [],
     "language": "python",
     "metadata": {},
     "outputs": []
    }
   ],
   "metadata": {}
  }
 ]
}